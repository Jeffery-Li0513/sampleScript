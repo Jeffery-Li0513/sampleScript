{
 "cells": [
  {
   "cell_type": "code",
   "execution_count": 5,
   "metadata": {},
   "outputs": [],
   "source": [
    "from matminer.featurizers.composition import alloy\n",
    "from matminer.featurizers.conversions import StrToComposition\n",
    "from sklearn.model_selection import GridSearchCV\n",
    "from sklearn.model_selection import cross_val_predict\n",
    "import sklearn\n",
    "from sklearn.ensemble import RandomForestRegressor\n",
    "\n",
    "\n",
    "import matplotlib.pyplot as plt\n",
    "import matplotlib\n",
    "import joblib\n",
    "import pandas as pd\n",
    "import sys"
   ]
  },
  {
   "cell_type": "code",
   "execution_count": 6,
   "metadata": {},
   "outputs": [],
   "source": [
    "ppn = sys.argv[1]"
   ]
  },
  {
   "cell_type": "code",
   "execution_count": 2,
   "metadata": {},
   "outputs": [
    {
     "data": {
      "application/vnd.jupyter.widget-view+json": {
       "model_id": "a4eaef959e7c42d4a34cb7e678348817",
       "version_major": 2,
       "version_minor": 0
      },
      "text/plain": [
       "StrToComposition:   0%|          | 0/799 [00:00<?, ?it/s]"
      ]
     },
     "metadata": {},
     "output_type": "display_data"
    },
    {
     "data": {
      "application/vnd.jupyter.widget-view+json": {
       "model_id": "ac492f537ab14d9db53cd56627f2ea1f",
       "version_major": 2,
       "version_minor": 0
      },
      "text/plain": [
       "WenAlloys:   0%|          | 0/799 [00:00<?, ?it/s]"
      ]
     },
     "metadata": {},
     "output_type": "display_data"
    }
   ],
   "source": [
    "data = pd.read_csv('data.csv')\n",
    "\n",
    "# Convert formula to composition\n",
    "data = StrToComposition().featurize_dataframe(data, 'formula')\n",
    "# 然后基于composition计算特征\n",
    "data = alloy.WenAlloys().featurize_dataframe(data, 'composition')"
   ]
  },
  {
   "cell_type": "code",
   "execution_count": 3,
   "metadata": {},
   "outputs": [],
   "source": [
    "# 选择前1500条数据作为训练集和验证集；后500条数据作为验证集。\n",
    "data_fit = data.iloc[:600]\n",
    "data_test = data.iloc[600:]\n",
    "\n",
    "data_fit_X = data_fit[['APE mean', 'Electronegativity local mismatch', 'VEC mean', 'Shear modulus mean', 'Shear modulus delta', 'Shear modulus strength model']]\n",
    "data_fit_y = data_fit['SFE']\n",
    "data_test_X = data_test[['APE mean', 'Electronegativity local mismatch', 'VEC mean', 'Shear modulus mean', 'Shear modulus delta', 'Shear modulus strength model']]\n",
    "data_test_y = data_test['SFE']"
   ]
  },
  {
   "cell_type": "code",
   "execution_count": null,
   "metadata": {},
   "outputs": [],
   "source": [
    "model_rf = RandomForestRegressor()\n",
    "param_grid = {'n_estimators': list(range(100, 1000, 100)), \n",
    "              'max_depth': list(range(5, 20, 2)), \n",
    "              'max_features': list(range(1, 6, 1)), \n",
    "              'min_samples_leaf': list(range(1, 10, 1)), \n",
    "              'min_samples_split': list(range(2, 10, 1)), \n",
    "              'criterion': ['squared_error', 'absolute_error', 'poisson', 'friedman_mse']}\n",
    "search_rf = GridSearchCV(model_rf, param_grid, cv=5, scoring='neg_mean_squared_error', n_jobs=ppn)\n",
    "search_rf.fit(data_fit_X, data_fit_y)\n",
    "\n",
    "print('网格搜索-度量记录：',search_rf.cv_results_)  # 包含每次训练的相关信息\n",
    "print('网格搜索-最佳度量值:',search_rf.best_score_)  # 获取最佳度量值\n",
    "print('网格搜索-最佳参数：',search_rf.best_params_)  # 获取最佳度量值时的代定参数的值。是一个字典\n",
    "print('网格搜索-最佳模型：',search_rf.best_estimator_)  # 获取最佳度量时的分类器模型"
   ]
  },
  {
   "cell_type": "code",
   "execution_count": null,
   "metadata": {},
   "outputs": [],
   "source": [
    "# 保存模型\n",
    "import joblib\n",
    "\n",
    "joblib.dump(search_rf, 'model_RF.pkl')"
   ]
  },
  {
   "cell_type": "code",
   "execution_count": null,
   "metadata": {},
   "outputs": [],
   "source": [
    "search_rf = joblib.load('model_GBR.pkl')"
   ]
  },
  {
   "cell_type": "code",
   "execution_count": null,
   "metadata": {},
   "outputs": [],
   "source": [
    "print(\"\\n\")\n",
    "print(\"-\"*50)\n",
    "\n",
    "# 交叉验证评价性能\n",
    "xgb_pridict = cross_val_predict(search_rf.best_estimator_, data_test_X, data_test_y, cv=10)\n",
    "\n",
    "for scorer in ['r2_score', 'mean_absolute_error', 'mean_squared_error']:\n",
    "    score = getattr(sklearn.metrics, scorer)(data_test_y, xgb_pridict)\n",
    "    print(scorer, score)"
   ]
  },
  {
   "cell_type": "code",
   "execution_count": null,
   "metadata": {},
   "outputs": [],
   "source": []
  }
 ],
 "metadata": {
  "kernelspec": {
   "display_name": "base",
   "language": "python",
   "name": "python3"
  },
  "language_info": {
   "codemirror_mode": {
    "name": "ipython",
    "version": 3
   },
   "file_extension": ".py",
   "mimetype": "text/x-python",
   "name": "python",
   "nbconvert_exporter": "python",
   "pygments_lexer": "ipython3",
   "version": "3.9.12"
  },
  "orig_nbformat": 4
 },
 "nbformat": 4,
 "nbformat_minor": 2
}
