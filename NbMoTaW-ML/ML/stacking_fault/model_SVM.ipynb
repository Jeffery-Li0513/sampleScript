{
 "cells": [
  {
   "cell_type": "code",
   "execution_count": 1,
   "metadata": {},
   "outputs": [],
   "source": [
    "from matminer.featurizers.composition import alloy\n",
    "from matminer.featurizers.conversions import StrToComposition\n",
    "from sklearn.model_selection import GridSearchCV\n",
    "from sklearn.model_selection import cross_val_predict\n",
    "import sklearn\n",
    "from sklearn.svm import SVR\n",
    "\n",
    "\n",
    "import matplotlib.pyplot as plt\n",
    "import matplotlib\n",
    "import joblib\n",
    "import pandas as pd\n",
    "import sys\n",
    "\n",
    "\n",
    "ppn = sys.argv[1]"
   ]
  },
  {
   "cell_type": "code",
   "execution_count": 3,
   "metadata": {},
   "outputs": [
    {
     "data": {
      "application/vnd.jupyter.widget-view+json": {
       "model_id": "d2128bd3eb5c428e978e5215ce7f4292",
       "version_major": 2,
       "version_minor": 0
      },
      "text/plain": [
       "StrToComposition:   0%|          | 0/799 [00:00<?, ?it/s]"
      ]
     },
     "metadata": {},
     "output_type": "display_data"
    },
    {
     "data": {
      "application/vnd.jupyter.widget-view+json": {
       "model_id": "248da8ad4f6b4ac2a0941a4407091c4f",
       "version_major": 2,
       "version_minor": 0
      },
      "text/plain": [
       "WenAlloys:   0%|          | 0/799 [00:00<?, ?it/s]"
      ]
     },
     "metadata": {},
     "output_type": "display_data"
    }
   ],
   "source": [
    "data = pd.read_csv('data.csv')\n",
    "\n",
    "# Convert formula to composition\n",
    "data = StrToComposition().featurize_dataframe(data, 'formula')\n",
    "# 然后基于composition计算特征\n",
    "data = alloy.WenAlloys().featurize_dataframe(data, 'composition')\n",
    "\n",
    "data_fit = data.iloc[:600]\n",
    "data_test = data.iloc[600:]\n",
    "\n",
    "data_fit_X = data_fit[['APE mean', 'Electronegativity local mismatch', 'VEC mean', 'Shear modulus mean', 'Shear modulus delta', 'Shear modulus strength model']]\n",
    "data_fit_y = data_fit['SFE']\n",
    "data_test_X = data_test[['APE mean', 'Electronegativity local mismatch', 'VEC mean', 'Shear modulus mean', 'Shear modulus delta', 'Shear modulus strength model']]\n",
    "data_test_y = data_test['SFE']"
   ]
  },
  {
   "cell_type": "code",
   "execution_count": null,
   "metadata": {},
   "outputs": [],
   "source": [
    "model_svr = SVR()\n",
    "param_grid = {'C': [0.1, 1, 10, 100, 1000], \n",
    "              'kernel': ['linear', 'poly', 'rbf', 'sigmoid', 'precomputed'], \n",
    "              'degree': [2, 3, 4, 5, 6, 7, 8, 9, 10], \n",
    "              'gamma': ['scale', 'auto'], \n",
    "              'coef0': [0.0, 0.1, 0.2, 0.3, 0.4, 0.5, 0.6, 0.7, 0.8, 0.9, 1.0], \n",
    "              'tol': [0.001, 0.0001, 0.00001, 0.000001]}\n",
    "search_svr = GridSearchCV(model_svr, param_grid, cv=5, scoring='neg_mean_squared_error', n_jobs=int(ppn))\n",
    "search_svr.fit(data_fit_X, data_fit_y)\n",
    "\n",
    "print('网格搜索-度量记录：',search_svr.cv_results_)  # 包含每次训练的相关信息\n",
    "print('网格搜索-最佳度量值:',search_svr.best_score_)  # 获取最佳度量值\n",
    "print('网格搜索-最佳参数：',search_svr.best_params_)  # 获取最佳度量值时的代定参数的值。是一个字典\n",
    "print('网格搜索-最佳模型：',search_svr.best_estimator_)  # 获取最佳度量时的分类器模型"
   ]
  },
  {
   "cell_type": "code",
   "execution_count": null,
   "metadata": {},
   "outputs": [],
   "source": [
    "# 保存模型\n",
    "import joblib\n",
    "\n",
    "joblib.dump(search_svr, 'model_SVR.pkl')"
   ]
  },
  {
   "cell_type": "code",
   "execution_count": null,
   "metadata": {},
   "outputs": [],
   "source": [
    "print(\"\\n\")\n",
    "print(\"-\"*50)\n",
    "\n",
    "# 交叉验证评价性能\n",
    "svr_pridict = cross_val_predict(search_svr.best_estimator_, data_test_X, data_test_y, cv=10)\n",
    "\n",
    "for scorer in ['r2_score', 'mean_absolute_error', 'mean_squared_error']:\n",
    "    score = getattr(sklearn.metrics, scorer)(data_test_y, svr_pridict)\n",
    "    print(scorer, score)"
   ]
  }
 ],
 "metadata": {
  "kernelspec": {
   "display_name": "base",
   "language": "python",
   "name": "python3"
  },
  "language_info": {
   "codemirror_mode": {
    "name": "ipython",
    "version": 3
   },
   "file_extension": ".py",
   "mimetype": "text/x-python",
   "name": "python",
   "nbconvert_exporter": "python",
   "pygments_lexer": "ipython3",
   "version": "3.9.12"
  },
  "orig_nbformat": 4
 },
 "nbformat": 4,
 "nbformat_minor": 2
}
