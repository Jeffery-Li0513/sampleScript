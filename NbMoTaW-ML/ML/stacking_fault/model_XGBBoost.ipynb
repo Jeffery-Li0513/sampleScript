{
 "cells": [
  {
   "cell_type": "code",
   "execution_count": 1,
   "metadata": {},
   "outputs": [],
   "source": [
    "from matminer.featurizers.composition import alloy\n",
    "from matminer.featurizers.conversions import StrToComposition\n",
    "from sklearn.model_selection import GridSearchCV\n",
    "from sklearn.model_selection import cross_val_predict\n",
    "import sklearn\n",
    "from xgboost import XGBRegressor\n",
    "\n",
    "import matplotlib.pyplot as plt\n",
    "import matplotlib\n",
    "import joblib\n",
    "import pandas as pd"
   ]
  },
  {
   "cell_type": "code",
   "execution_count": null,
   "metadata": {},
   "outputs": [],
   "source": [
    "data = pd.read_csv('data.csv')\n",
    "\n",
    "# Convert formula to composition\n",
    "data = StrToComposition().featurize_dataframe(data, 'formula')\n",
    "# 然后基于composition计算特征\n",
    "data = alloy.WenAlloys().featurize_dataframe(data, 'composition')"
   ]
  },
  {
   "cell_type": "code",
   "execution_count": null,
   "metadata": {},
   "outputs": [],
   "source": [
    "# 去除数据中的'formula', 'C11', 'C12', 'C44', 'a', 'b', 'c', 'G', 'B', 'E', 'v', 'Zener', 'composition', 'Weight Fraction', 'Atomic Fraction'\n",
    "data.drop(['formula', 'composition', 'Weight Fraction', 'Atomic Fraction'], axis=1, inplace=True)\n",
    "data.drop(['Interant electrons', 'Interant s electrons', 'Interant p electrons', 'Interant d electrons', 'Interant f electrons'], axis=1, inplace=True)\n",
    "\n",
    "data.dropna(axis=1, how='any', inplace=True)\n",
    "\n",
    "# 选择前1500条数据作为训练集和验证集；后500条数据作为验证集。\n",
    "data_fit = data.iloc[:600]\n",
    "data_test = data.iloc[600:]\n",
    "\n",
    "data_fit_X = data_fit[['APE mean', 'Electronegativity local mismatch', 'VEC mean', 'Shear modulus mean', 'Shear modulus delta', 'Shear modulus strength model']]\n",
    "data_fit_y = data_fit['SFE']\n",
    "data_test_X = data_test[['APE mean', 'Electronegativity local mismatch', 'VEC mean', 'Shear modulus mean', 'Shear modulus delta', 'Shear modulus strength model']]\n",
    "data_test_y = data_test['SFE']"
   ]
  },
  {
   "cell_type": "code",
   "execution_count": null,
   "metadata": {},
   "outputs": [],
   "source": [
    "# 参数优化\n",
    "from multiprocessing import cpu_count, set_start_method\n",
    "\n",
    "model_xgb = XGBRegressor()\n",
    "param_grid = {'n_estimators': list(range(100, 1000, 100)), \n",
    "              'max_depth': list(range(3, 10, 1)), \n",
    "              'learning_rate': ['0.01', '0.1', '0.3', '0.5'], \n",
    "              'colsample_bytree': ['0.5', '0.7', '0.9'], \n",
    "              'subsample': ['0.5', '0.7', '0.9'], \n",
    "              'min_child_weight': [1, 3, 5, 7, 9], \n",
    "              'min_split_loss': [0, 1, 3, 5, 7, 9]}\n",
    "grid_search = GridSearchCV(model_xgb, param_grid, cv=5, n_jobs=cpu_count()-3, verbose=1)"
   ]
  },
  {
   "cell_type": "code",
   "execution_count": null,
   "metadata": {},
   "outputs": [],
   "source": []
  },
  {
   "cell_type": "code",
   "execution_count": null,
   "metadata": {},
   "outputs": [],
   "source": [
    "# 保存模型\n",
    "import joblib\n",
    "\n",
    "joblib.dump(grid_search, 'model_GBR.pkl')\n",
    "\n",
    "# 加载模型\n",
    "# search_gbr = joblib.load('model_GBR.pkl')"
   ]
  }
 ],
 "metadata": {
  "kernelspec": {
   "display_name": "base",
   "language": "python",
   "name": "python3"
  },
  "language_info": {
   "codemirror_mode": {
    "name": "ipython",
    "version": 3
   },
   "file_extension": ".py",
   "mimetype": "text/x-python",
   "name": "python",
   "nbconvert_exporter": "python",
   "pygments_lexer": "ipython3",
   "version": "3.9.12"
  },
  "orig_nbformat": 4
 },
 "nbformat": 4,
 "nbformat_minor": 2
}
