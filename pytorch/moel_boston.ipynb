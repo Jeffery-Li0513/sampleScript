{
 "cells": [
  {
   "cell_type": "code",
   "execution_count": 1,
   "metadata": {},
   "outputs": [],
   "source": [
    "import torch\n",
    "import torch.nn as nn # 搭建神经网络\n",
    "from torch.optim import SGD # 优化器SGD\n",
    "import torch.utils.data as Data # 数据预处理\n",
    "\n",
    "from sklearn.datasets import load_boston # 导入波士顿房价数据\n",
    "from sklearn.preprocessing import StandardScaler # 数据标准化\n",
    "import numpy as np\n",
    "\n",
    "import matplotlib.pyplot as plt"
   ]
  },
  {
   "cell_type": "code",
   "execution_count": 2,
   "metadata": {},
   "outputs": [
    {
     "name": "stdout",
     "output_type": "stream",
     "text": [
      "boston_X.shape:  (506, 13)\n"
     ]
    },
    {
     "name": "stderr",
     "output_type": "stream",
     "text": [
      "C:\\Users\\zefengli\\AppData\\Roaming\\Python\\Python39\\site-packages\\sklearn\\utils\\deprecation.py:87: FutureWarning: Function load_boston is deprecated; `load_boston` is deprecated in 1.0 and will be removed in 1.2.\n",
      "\n",
      "    The Boston housing prices dataset has an ethical problem. You can refer to\n",
      "    the documentation of this function for further details.\n",
      "\n",
      "    The scikit-learn maintainers therefore strongly discourage the use of this\n",
      "    dataset unless the purpose of the code is to study and educate about\n",
      "    ethical issues in data science and machine learning.\n",
      "\n",
      "    In this special case, you can fetch the dataset from the original\n",
      "    source::\n",
      "\n",
      "        import pandas as pd\n",
      "        import numpy as np\n",
      "\n",
      "        data_url = \"http://lib.stat.cmu.edu/datasets/boston\"\n",
      "        raw_df = pd.read_csv(data_url, sep=\"\\s+\", skiprows=22, header=None)\n",
      "        data = np.hstack([raw_df.values[::2, :], raw_df.values[1::2, :2]])\n",
      "        target = raw_df.values[1::2, 2]\n",
      "\n",
      "    Alternative datasets include the California housing dataset (i.e.\n",
      "    :func:`~sklearn.datasets.fetch_california_housing`) and the Ames housing\n",
      "    dataset. You can load the datasets as follows::\n",
      "\n",
      "        from sklearn.datasets import fetch_california_housing\n",
      "        housing = fetch_california_housing()\n",
      "\n",
      "    for the California housing dataset and::\n",
      "\n",
      "        from sklearn.datasets import fetch_openml\n",
      "        housing = fetch_openml(name=\"house_prices\", as_frame=True)\n",
      "\n",
      "    for the Ames housing dataset.\n",
      "  warnings.warn(msg, category=FutureWarning)\n"
     ]
    }
   ],
   "source": [
    "# 读入数据\n",
    "boston_X, boston_y = load_boston(return_X_y=True)\n",
    "print(\"boston_X.shape: \", boston_X.shape)"
   ]
  },
  {
   "cell_type": "code",
   "execution_count": 12,
   "metadata": {},
   "outputs": [
    {
     "data": {
      "text/plain": [
       "array([[6.3200e-03, 1.8000e+01, 2.3100e+00, ..., 1.5300e+01, 3.9690e+02,\n",
       "        4.9800e+00],\n",
       "       [2.7310e-02, 0.0000e+00, 7.0700e+00, ..., 1.7800e+01, 3.9690e+02,\n",
       "        9.1400e+00],\n",
       "       [2.7290e-02, 0.0000e+00, 7.0700e+00, ..., 1.7800e+01, 3.9283e+02,\n",
       "        4.0300e+00],\n",
       "       ...,\n",
       "       [6.0760e-02, 0.0000e+00, 1.1930e+01, ..., 2.1000e+01, 3.9690e+02,\n",
       "        5.6400e+00],\n",
       "       [1.0959e-01, 0.0000e+00, 1.1930e+01, ..., 2.1000e+01, 3.9345e+02,\n",
       "        6.4800e+00],\n",
       "       [4.7410e-02, 0.0000e+00, 1.1930e+01, ..., 2.1000e+01, 3.9690e+02,\n",
       "        7.8800e+00]])"
      ]
     },
     "execution_count": 12,
     "metadata": {},
     "output_type": "execute_result"
    }
   ],
   "source": [
    "boston_X"
   ]
  },
  {
   "cell_type": "code",
   "execution_count": 13,
   "metadata": {},
   "outputs": [
    {
     "data": {
      "text/plain": [
       "array([24. , 21.6, 34.7, 33.4, 36.2, 28.7, 22.9, 27.1, 16.5, 18.9, 15. ,\n",
       "       18.9, 21.7, 20.4, 18.2, 19.9, 23.1, 17.5, 20.2, 18.2, 13.6, 19.6,\n",
       "       15.2, 14.5, 15.6, 13.9, 16.6, 14.8, 18.4, 21. , 12.7, 14.5, 13.2,\n",
       "       13.1, 13.5, 18.9, 20. , 21. , 24.7, 30.8, 34.9, 26.6, 25.3, 24.7,\n",
       "       21.2, 19.3, 20. , 16.6, 14.4, 19.4, 19.7, 20.5, 25. , 23.4, 18.9,\n",
       "       35.4, 24.7, 31.6, 23.3, 19.6, 18.7, 16. , 22.2, 25. , 33. , 23.5,\n",
       "       19.4, 22. , 17.4, 20.9, 24.2, 21.7, 22.8, 23.4, 24.1, 21.4, 20. ,\n",
       "       20.8, 21.2, 20.3, 28. , 23.9, 24.8, 22.9, 23.9, 26.6, 22.5, 22.2,\n",
       "       23.6, 28.7, 22.6, 22. , 22.9, 25. , 20.6, 28.4, 21.4, 38.7, 43.8,\n",
       "       33.2, 27.5, 26.5, 18.6, 19.3, 20.1, 19.5, 19.5, 20.4, 19.8, 19.4,\n",
       "       21.7, 22.8, 18.8, 18.7, 18.5, 18.3, 21.2, 19.2, 20.4, 19.3, 22. ,\n",
       "       20.3, 20.5, 17.3, 18.8, 21.4, 15.7, 16.2, 18. , 14.3, 19.2, 19.6,\n",
       "       23. , 18.4, 15.6, 18.1, 17.4, 17.1, 13.3, 17.8, 14. , 14.4, 13.4,\n",
       "       15.6, 11.8, 13.8, 15.6, 14.6, 17.8, 15.4, 21.5, 19.6, 15.3, 19.4,\n",
       "       17. , 15.6, 13.1, 41.3, 24.3, 23.3, 27. , 50. , 50. , 50. , 22.7,\n",
       "       25. , 50. , 23.8, 23.8, 22.3, 17.4, 19.1, 23.1, 23.6, 22.6, 29.4,\n",
       "       23.2, 24.6, 29.9, 37.2, 39.8, 36.2, 37.9, 32.5, 26.4, 29.6, 50. ,\n",
       "       32. , 29.8, 34.9, 37. , 30.5, 36.4, 31.1, 29.1, 50. , 33.3, 30.3,\n",
       "       34.6, 34.9, 32.9, 24.1, 42.3, 48.5, 50. , 22.6, 24.4, 22.5, 24.4,\n",
       "       20. , 21.7, 19.3, 22.4, 28.1, 23.7, 25. , 23.3, 28.7, 21.5, 23. ,\n",
       "       26.7, 21.7, 27.5, 30.1, 44.8, 50. , 37.6, 31.6, 46.7, 31.5, 24.3,\n",
       "       31.7, 41.7, 48.3, 29. , 24. , 25.1, 31.5, 23.7, 23.3, 22. , 20.1,\n",
       "       22.2, 23.7, 17.6, 18.5, 24.3, 20.5, 24.5, 26.2, 24.4, 24.8, 29.6,\n",
       "       42.8, 21.9, 20.9, 44. , 50. , 36. , 30.1, 33.8, 43.1, 48.8, 31. ,\n",
       "       36.5, 22.8, 30.7, 50. , 43.5, 20.7, 21.1, 25.2, 24.4, 35.2, 32.4,\n",
       "       32. , 33.2, 33.1, 29.1, 35.1, 45.4, 35.4, 46. , 50. , 32.2, 22. ,\n",
       "       20.1, 23.2, 22.3, 24.8, 28.5, 37.3, 27.9, 23.9, 21.7, 28.6, 27.1,\n",
       "       20.3, 22.5, 29. , 24.8, 22. , 26.4, 33.1, 36.1, 28.4, 33.4, 28.2,\n",
       "       22.8, 20.3, 16.1, 22.1, 19.4, 21.6, 23.8, 16.2, 17.8, 19.8, 23.1,\n",
       "       21. , 23.8, 23.1, 20.4, 18.5, 25. , 24.6, 23. , 22.2, 19.3, 22.6,\n",
       "       19.8, 17.1, 19.4, 22.2, 20.7, 21.1, 19.5, 18.5, 20.6, 19. , 18.7,\n",
       "       32.7, 16.5, 23.9, 31.2, 17.5, 17.2, 23.1, 24.5, 26.6, 22.9, 24.1,\n",
       "       18.6, 30.1, 18.2, 20.6, 17.8, 21.7, 22.7, 22.6, 25. , 19.9, 20.8,\n",
       "       16.8, 21.9, 27.5, 21.9, 23.1, 50. , 50. , 50. , 50. , 50. , 13.8,\n",
       "       13.8, 15. , 13.9, 13.3, 13.1, 10.2, 10.4, 10.9, 11.3, 12.3,  8.8,\n",
       "        7.2, 10.5,  7.4, 10.2, 11.5, 15.1, 23.2,  9.7, 13.8, 12.7, 13.1,\n",
       "       12.5,  8.5,  5. ,  6.3,  5.6,  7.2, 12.1,  8.3,  8.5,  5. , 11.9,\n",
       "       27.9, 17.2, 27.5, 15. , 17.2, 17.9, 16.3,  7. ,  7.2,  7.5, 10.4,\n",
       "        8.8,  8.4, 16.7, 14.2, 20.8, 13.4, 11.7,  8.3, 10.2, 10.9, 11. ,\n",
       "        9.5, 14.5, 14.1, 16.1, 14.3, 11.7, 13.4,  9.6,  8.7,  8.4, 12.8,\n",
       "       10.5, 17.1, 18.4, 15.4, 10.8, 11.8, 14.9, 12.6, 14.1, 13. , 13.4,\n",
       "       15.2, 16.1, 17.8, 14.9, 14.1, 12.7, 13.5, 14.9, 20. , 16.4, 17.7,\n",
       "       19.5, 20.2, 21.4, 19.9, 19. , 19.1, 19.1, 20.1, 19.9, 19.6, 23.2,\n",
       "       29.8, 13.8, 13.3, 16.7, 12. , 14.6, 21.4, 23. , 23.7, 25. , 21.8,\n",
       "       20.6, 21.2, 19.1, 20.6, 15.2,  7. ,  8.1, 13.6, 20.1, 21.8, 24.5,\n",
       "       23.1, 19.7, 18.3, 21.2, 17.5, 16.8, 22.4, 20.6, 23.9, 22. , 11.9])"
      ]
     },
     "execution_count": 13,
     "metadata": {},
     "output_type": "execute_result"
    }
   ],
   "source": [
    "boston_y"
   ]
  },
  {
   "cell_type": "code",
   "execution_count": 3,
   "metadata": {},
   "outputs": [
    {
     "data": {
      "image/png": "[encoded data removed]",
      "text/plain": [
       "<Figure size 432x288 with 1 Axes>"
      ]
     },
     "metadata": {
      "needs_background": "light"
     },
     "output_type": "display_data"
    }
   ],
   "source": [
    "plt.figure()\n",
    "plt.hist(boston_y, bins=20) # hist方法来绘制直方图\n",
    "plt.show()"
   ]
  },
  {
   "cell_type": "code",
   "execution_count": 4,
   "metadata": {},
   "outputs": [],
   "source": [
    "# 标准化数据\n",
    "ss = StandardScaler(copy=True, with_mean=True, with_std=True)\n",
    "boston_Xs = ss.fit_transform(boston_X)"
   ]
  },
  {
   "cell_type": "code",
   "execution_count": 5,
   "metadata": {},
   "outputs": [
    {
     "name": "stdout",
     "output_type": "stream",
     "text": [
      "torch.Size([506, 13])\n",
      "torch.Size([506])\n"
     ]
    }
   ],
   "source": [
    "# 将数据转化为张量\n",
    "train_xt = torch.from_numpy(boston_Xs.astype(np.float32))\n",
    "print(train_xt.size()) # 数据尺寸为(506, 13), 其中13为波士顿房价数据的特征数,\n",
    "                       # 13将作神经网络的输入层神经单元个数\n",
    "                       \n",
    "train_yt = torch.from_numpy(boston_y.astype(np.float32))\n",
    "print(train_yt.size())"
   ]
  },
  {
   "cell_type": "code",
   "execution_count": 6,
   "metadata": {},
   "outputs": [
    {
     "name": "stdout",
     "output_type": "stream",
     "text": [
      "(tensor([[-0.4198,  0.2848, -1.2879, -0.2726, -0.1442,  0.4137, -0.1200,  0.1402,\n",
      "         -0.9828, -0.6666, -1.4590,  0.4411, -1.0756],\n",
      "        [-0.4173, -0.4877, -0.5934, -0.2726, -0.7403,  0.1943,  0.3672,  0.5572,\n",
      "         -0.8679, -0.9873, -0.3031,  0.4411, -0.4924],\n",
      "        [-0.4173, -0.4877, -0.5934, -0.2726, -0.7403,  1.2827, -0.2658,  0.5572,\n",
      "         -0.8679, -0.9873, -0.3031,  0.3964, -1.2087],\n",
      "        [-0.4168, -0.4877, -1.3069, -0.2726, -0.8353,  1.0163, -0.8099,  1.0777,\n",
      "         -0.7529, -1.1061,  0.1130,  0.4162, -1.3615],\n",
      "        [-0.4125, -0.4877, -1.3069, -0.2726, -0.8353,  1.2286, -0.5112,  1.0777,\n",
      "         -0.7529, -1.1061,  0.1130,  0.4411, -1.0265]]), tensor([24.0000, 21.6000, 34.7000, 33.4000, 36.2000]))\n"
     ]
    }
   ],
   "source": [
    "# 制作训练用数据，即关联数据，将输房价特征数据train_xt与房价数据train_y关联\n",
    "train_data = Data.TensorDataset(train_xt, train_yt)\n",
    "print(train_data[0: 5]) # 预览前5组数据 \n",
    "\n",
    "# 定义一个数据加载器，用于批量加载训练用数据, 让数据分批次进入神经网络\n",
    "train_loader = Data.DataLoader(dataset=train_data, \n",
    "                               batch_size=128,\n",
    "                               shuffle=True,\n",
    "                               num_workers=0)"
   ]
  },
  {
   "cell_type": "code",
   "execution_count": 7,
   "metadata": {},
   "outputs": [],
   "source": [
    "class MLPmodel(nn.Module):\n",
    "    def __init__(self):\n",
    "        super(MLPmodel, self).__init__()\n",
    "        # First hidden layer\n",
    "        self.h1 = nn.Linear(in_features = 13, out_features=30, bias=True)\n",
    "        self.a1 = nn.ReLU()\n",
    "        # Second hidden layer\n",
    "        self.h2 = nn.Linear(in_features=30, out_features=10)\n",
    "        self.a2 = nn.ReLU()\n",
    "        # regression predict layer\n",
    "        self.regression = nn.Linear(in_features=10, out_features=1)\n",
    "        \n",
    "    def forward(self, x):\n",
    "        x = self.h1(x)\n",
    "        x = self.a1(x)\n",
    "        x = self.h2(x)\n",
    "        x = self.a2(x)\n",
    "        output = self.regression(x)\n",
    "        return output"
   ]
  },
  {
   "cell_type": "code",
   "execution_count": 9,
   "metadata": {},
   "outputs": [
    {
     "name": "stdout",
     "output_type": "stream",
     "text": [
      "MLPmodel(\n",
      "  (h1): Linear(in_features=13, out_features=30, bias=True)\n",
      "  (a1): ReLU()\n",
      "  (h2): Linear(in_features=30, out_features=10, bias=True)\n",
      "  (a2): ReLU()\n",
      "  (regression): Linear(in_features=10, out_features=1, bias=True)\n",
      ")\n"
     ]
    }
   ],
   "source": [
    "mlp_1 = MLPmodel()  #网络转到GPU上计算\n",
    "list(mlp_1.parameters())[0]   # 查看网络是否到GPU上\n",
    "print(mlp_1)"
   ]
  },
  {
   "cell_type": "code",
   "execution_count": 10,
   "metadata": {},
   "outputs": [
    {
     "name": "stdout",
     "output_type": "stream",
     "text": [
      "train epoch 1, loss 556.8778686523438:\n",
      "train epoch 2, loss 629.0133666992188:\n",
      "train epoch 3, loss 539.4899291992188:\n",
      "train epoch 4, loss 521.728271484375:\n",
      "train epoch 5, loss 503.6838073730469:\n",
      "train epoch 6, loss 531.8993530273438:\n",
      "train epoch 7, loss 496.77520751953125:\n",
      "train epoch 8, loss 343.5329895019531:\n",
      "train epoch 9, loss 210.14515686035156:\n",
      "train epoch 10, loss 103.17367553710938:\n",
      "train epoch 11, loss 52.14960479736328:\n",
      "train epoch 12, loss 28.248294830322266:\n",
      "train epoch 13, loss 35.974796295166016:\n",
      "train epoch 14, loss 34.317317962646484:\n",
      "train epoch 15, loss 27.303600311279297:\n",
      "train epoch 16, loss 14.256343841552734:\n",
      "train epoch 17, loss 25.961841583251953:\n",
      "train epoch 18, loss 19.395008087158203:\n",
      "train epoch 19, loss 26.75493812561035:\n",
      "train epoch 20, loss 21.611291885375977:\n",
      "train epoch 21, loss 17.7252140045166:\n",
      "train epoch 22, loss 20.367143630981445:\n",
      "train epoch 23, loss 21.396732330322266:\n",
      "train epoch 24, loss 17.9984130859375:\n",
      "train epoch 25, loss 16.188724517822266:\n",
      "train epoch 26, loss 16.310110092163086:\n",
      "train epoch 27, loss 23.548051834106445:\n",
      "train epoch 28, loss 19.43172264099121:\n",
      "train epoch 29, loss 23.0133113861084:\n",
      "train epoch 30, loss 17.703271865844727:\n",
      "train epoch 31, loss 13.769733428955078:\n",
      "train epoch 32, loss 17.076990127563477:\n",
      "train epoch 33, loss 19.417699813842773:\n",
      "train epoch 34, loss 14.228920936584473:\n",
      "train epoch 35, loss 16.8496036529541:\n",
      "train epoch 36, loss 8.385241508483887:\n",
      "train epoch 37, loss 10.893460273742676:\n",
      "train epoch 38, loss 10.641215324401855:\n",
      "train epoch 39, loss 14.20482063293457:\n",
      "train epoch 40, loss 13.895852088928223:\n",
      "train epoch 41, loss 15.05461311340332:\n",
      "train epoch 42, loss 14.609901428222656:\n",
      "train epoch 43, loss 18.43941307067871:\n",
      "train epoch 44, loss 10.443102836608887:\n",
      "train epoch 45, loss 12.341113090515137:\n",
      "train epoch 46, loss 20.45915985107422:\n",
      "train epoch 47, loss 10.190384864807129:\n",
      "train epoch 48, loss 20.432273864746094:\n",
      "train epoch 49, loss 18.452892303466797:\n",
      "train epoch 50, loss 12.759096145629883:\n",
      "train epoch 51, loss 18.205623626708984:\n",
      "train epoch 52, loss 9.36251449584961:\n",
      "train epoch 53, loss 10.56413459777832:\n",
      "train epoch 54, loss 10.513556480407715:\n",
      "train epoch 55, loss 20.656618118286133:\n",
      "train epoch 56, loss 19.21653938293457:\n",
      "train epoch 57, loss 6.555807113647461:\n",
      "train epoch 58, loss 11.696361541748047:\n",
      "train epoch 59, loss 13.360160827636719:\n",
      "train epoch 60, loss 9.12881851196289:\n"
     ]
    }
   ],
   "source": [
    "optimizer = SGD(mlp_1.parameters(), lr=0.001) # 定义优化器 define Optimizer\n",
    "loss_function = nn.MSELoss()    # 定义损失函数loss function\n",
    "\n",
    "train_loss_all = [] # 存放每次迭代的误差数据，便于可视化训练过程\n",
    "\n",
    "# Train\n",
    "for epoch in range(60): # 迭代总轮数：50次\n",
    "    # 对每个批次进行迭代计算\n",
    "    for step, (b_x, b_y) in enumerate(train_loader):\n",
    "        output = mlp_1(b_x).flatten()\n",
    "        train_loss = loss_function(output, b_y) # 误差计算\n",
    "        optimizer.zero_grad() # 梯度置位，或称梯度清零\n",
    "        train_loss.backward() # 反向传播，计算梯度\n",
    "        optimizer.step() # 梯度优化\n",
    "        train_loss_all.append(train_loss.item())\n",
    "    print(\"train epoch %d, loss %s:\" % (epoch + 1, train_loss.item()))"
   ]
  },
  {
   "cell_type": "code",
   "execution_count": 11,
   "metadata": {},
   "outputs": [
    {
     "data": {
      "image/png": "[encoded data removed]",
      "text/plain": [
       "<Figure size 432x288 with 1 Axes>"
      ]
     },
     "metadata": {
      "needs_background": "light"
     },
     "output_type": "display_data"
    }
   ],
   "source": [
    "# 可视化训练过程（非动态）\n",
    "plt.figure()\n",
    "plt.plot(train_loss_all, \"g-\")\n",
    "plt.title(\"MLPmodel1: Train loss per iteration\")\n",
    "plt.show()"
   ]
  },
  {
   "cell_type": "code",
   "execution_count": null,
   "metadata": {},
   "outputs": [],
   "source": []
  }
 ],
 "metadata": {
  "kernelspec": {
   "display_name": "base",
   "language": "python",
   "name": "python3"
  },
  "language_info": {
   "codemirror_mode": {
    "name": "ipython",
    "version": 3
   },
   "file_extension": ".py",
   "mimetype": "text/x-python",
   "name": "python",
   "nbconvert_exporter": "python",
   "pygments_lexer": "ipython3",
   "version": "3.9.12"
  },
  "orig_nbformat": 4
 },
 "nbformat": 4,
 "nbformat_minor": 2
}
